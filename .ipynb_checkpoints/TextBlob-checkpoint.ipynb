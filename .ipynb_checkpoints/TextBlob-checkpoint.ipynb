{
 "cells": [
  {
   "cell_type": "code",
   "execution_count": 1,
   "id": "8f1a87ba",
   "metadata": {},
   "outputs": [
    {
     "name": "stdout",
     "output_type": "stream",
     "text": [
      "Collecting textblob\n",
      "  Using cached textblob-0.15.3-py2.py3-none-any.whl (636 kB)\n",
      "Requirement already satisfied: nltk>=3.1 in /Users/Adit/opt/anaconda3/lib/python3.8/site-packages (from textblob) (3.6.1)\n",
      "Requirement already satisfied: regex in /Users/Adit/opt/anaconda3/lib/python3.8/site-packages (from nltk>=3.1->textblob) (2021.4.4)\n",
      "Requirement already satisfied: joblib in /Users/Adit/opt/anaconda3/lib/python3.8/site-packages (from nltk>=3.1->textblob) (1.0.1)\n",
      "Requirement already satisfied: click in /Users/Adit/opt/anaconda3/lib/python3.8/site-packages (from nltk>=3.1->textblob) (7.1.2)\n",
      "Requirement already satisfied: tqdm in /Users/Adit/opt/anaconda3/lib/python3.8/site-packages (from nltk>=3.1->textblob) (4.59.0)\n",
      "Installing collected packages: textblob\n",
      "Successfully installed textblob-0.15.3\n",
      "Note: you may need to restart the kernel to use updated packages.\n"
     ]
    }
   ],
   "source": [
    "pip install textblob"
   ]
  },
  {
   "cell_type": "code",
   "execution_count": 2,
   "id": "7798a51d",
   "metadata": {},
   "outputs": [
    {
     "name": "stdout",
     "output_type": "stream",
     "text": [
      "[nltk_data] Downloading package brown to /Users/Adit/nltk_data...\n",
      "[nltk_data]   Unzipping corpora/brown.zip.\n",
      "[nltk_data] Downloading package punkt to /Users/Adit/nltk_data...\n",
      "[nltk_data]   Package punkt is already up-to-date!\n",
      "[nltk_data] Downloading package wordnet to /Users/Adit/nltk_data...\n",
      "[nltk_data]   Package wordnet is already up-to-date!\n",
      "[nltk_data] Downloading package averaged_perceptron_tagger to\n",
      "[nltk_data]     /Users/Adit/nltk_data...\n",
      "[nltk_data]   Package averaged_perceptron_tagger is already up-to-\n",
      "[nltk_data]       date!\n",
      "[nltk_data] Downloading package conll2000 to /Users/Adit/nltk_data...\n",
      "[nltk_data]   Unzipping corpora/conll2000.zip.\n",
      "[nltk_data] Downloading package movie_reviews to\n",
      "[nltk_data]     /Users/Adit/nltk_data...\n",
      "[nltk_data]   Unzipping corpora/movie_reviews.zip.\n",
      "Finished.\n"
     ]
    }
   ],
   "source": [
    "!python -m textblob.download_corpora"
   ]
  },
  {
   "cell_type": "code",
   "execution_count": 3,
   "id": "03999506",
   "metadata": {},
   "outputs": [],
   "source": [
    "from textblob import TextBlob\n",
    "\n",
    "data = TextBlob('I love Natural Language Proecessing, not you! i am a messi fan')"
   ]
  },
  {
   "cell_type": "code",
   "execution_count": 5,
   "id": "cf466233",
   "metadata": {},
   "outputs": [
    {
     "data": {
      "text/plain": [
       "[('I', 'PRP'),\n",
       " ('love', 'VBP'),\n",
       " ('Natural', 'JJ'),\n",
       " ('Language', 'NNP'),\n",
       " ('Proecessing', 'NNP'),\n",
       " ('not', 'RB'),\n",
       " ('you', 'PRP'),\n",
       " ('i', 'NN'),\n",
       " ('am', 'VBP'),\n",
       " ('a', 'DT'),\n",
       " ('messi', 'NN'),\n",
       " ('fan', 'NN')]"
      ]
     },
     "execution_count": 5,
     "metadata": {},
     "output_type": "execute_result"
    }
   ],
   "source": [
    "data.tags"
   ]
  },
  {
   "cell_type": "code",
   "execution_count": 6,
   "id": "4ab98012",
   "metadata": {},
   "outputs": [
    {
     "data": {
      "text/plain": [
       "WordList(['language proecessing', 'messi fan'])"
      ]
     },
     "execution_count": 6,
     "metadata": {},
     "output_type": "execute_result"
    }
   ],
   "source": [
    "data.noun_phrases"
   ]
  },
  {
   "cell_type": "code",
   "execution_count": 7,
   "id": "adb9b748",
   "metadata": {},
   "outputs": [
    {
     "data": {
      "text/plain": [
       "WordList(['I', 'love', 'Natural', 'Language', 'Proecessing', 'not', 'you', 'i', 'am', 'a', 'messi', 'fan'])"
      ]
     },
     "execution_count": 7,
     "metadata": {},
     "output_type": "execute_result"
    }
   ],
   "source": [
    "# tokenization\n",
    "data.words"
   ]
  },
  {
   "cell_type": "code",
   "execution_count": 8,
   "id": "1f82bb88",
   "metadata": {},
   "outputs": [
    {
     "data": {
      "text/plain": [
       "[Sentence(\"I love Natural Language Proecessing, not you!\"),\n",
       " Sentence(\"i am a messi fan\")]"
      ]
     },
     "execution_count": 8,
     "metadata": {},
     "output_type": "execute_result"
    }
   ],
   "source": [
    "data.sentences"
   ]
  },
  {
   "cell_type": "code",
   "execution_count": 9,
   "id": "530f5ab9",
   "metadata": {},
   "outputs": [],
   "source": [
    "sent = TextBlob('Use 4 spaces per indentation level go')"
   ]
  },
  {
   "cell_type": "code",
   "execution_count": 12,
   "id": "f804870a",
   "metadata": {},
   "outputs": [
    {
     "data": {
      "text/plain": [
       "WordList(['Uses', '4s', 'spacess', 'pers', 'indentations', 'levels', 'goes'])"
      ]
     },
     "execution_count": 12,
     "metadata": {},
     "output_type": "execute_result"
    }
   ],
   "source": [
    "sent.words.pluralize()"
   ]
  },
  {
   "cell_type": "code",
   "execution_count": 13,
   "id": "5a519eaf",
   "metadata": {},
   "outputs": [
    {
     "data": {
      "text/plain": [
       "WordList(['Use', '4', 'space', 'per', 'indentation', 'level', 'go'])"
      ]
     },
     "execution_count": 13,
     "metadata": {},
     "output_type": "execute_result"
    }
   ],
   "source": [
    "sent.words.singularize()"
   ]
  },
  {
   "cell_type": "code",
   "execution_count": 14,
   "id": "6b8badba",
   "metadata": {},
   "outputs": [
    {
     "data": {
      "text/plain": [
       "'histori'"
      ]
     },
     "execution_count": 14,
     "metadata": {},
     "output_type": "execute_result"
    }
   ],
   "source": [
    "from textblob import Word\n",
    "\n",
    "q = Word('history')\n",
    "q.stem()"
   ]
  },
  {
   "cell_type": "code",
   "execution_count": 17,
   "id": "c22d88a6",
   "metadata": {},
   "outputs": [
    {
     "data": {
      "text/plain": [
       "'run'"
      ]
     },
     "execution_count": 17,
     "metadata": {},
     "output_type": "execute_result"
    }
   ],
   "source": [
    "q = Word('runs')\n",
    "q.lemmatize()"
   ]
  },
  {
   "cell_type": "code",
   "execution_count": 20,
   "id": "459b061d",
   "metadata": {},
   "outputs": [
    {
     "data": {
      "text/plain": [
       "['the aggregate of past events',\n",
       " 'a record or narrative description of past events',\n",
       " 'the discipline that records and interprets past events involving human beings',\n",
       " 'the continuum of events occurring in succession leading from the past to the present and even into the future',\n",
       " 'all that is remembered of the past as preserved in writing; a body of knowledge']"
      ]
     },
     "execution_count": 20,
     "metadata": {},
     "output_type": "execute_result"
    }
   ],
   "source": [
    "Word('History').definitions"
   ]
  },
  {
   "cell_type": "code",
   "execution_count": 21,
   "id": "498b6bb6",
   "metadata": {},
   "outputs": [
    {
     "data": {
      "text/plain": [
       "TextBlob(\"Definition\")"
      ]
     },
     "execution_count": 21,
     "metadata": {},
     "output_type": "execute_result"
    }
   ],
   "source": [
    "# spell check\n",
    "\n",
    "w = TextBlob('Defenition')\n",
    "w.correct()"
   ]
  },
  {
   "cell_type": "code",
   "execution_count": 24,
   "id": "26e586d8",
   "metadata": {},
   "outputs": [
    {
     "data": {
      "text/plain": [
       "0"
      ]
     },
     "execution_count": 24,
     "metadata": {},
     "output_type": "execute_result"
    }
   ],
   "source": [
    "sent = TextBlob('SHE Sales Sea shells at the sea shore SEa')\n",
    "\n",
    "sent.word_counts['SHE']  # Automatically converts to lower"
   ]
  },
  {
   "cell_type": "code",
   "execution_count": 28,
   "id": "6a6a2c4f",
   "metadata": {},
   "outputs": [
    {
     "data": {
      "text/plain": [
       "1"
      ]
     },
     "execution_count": 28,
     "metadata": {},
     "output_type": "execute_result"
    }
   ],
   "source": [
    "sent.words.count('SHE' , case_sensitive=True)"
   ]
  },
  {
   "cell_type": "code",
   "execution_count": 29,
   "id": "78ee1d12",
   "metadata": {},
   "outputs": [
    {
     "data": {
      "text/plain": [
       "TextBlob(\"कुछ होना कुछ नहीं होने से बेहतर है\")"
      ]
     },
     "execution_count": 29,
     "metadata": {},
     "output_type": "execute_result"
    }
   ],
   "source": [
    "blob = TextBlob('Something is Better than nothing')\n",
    "blob.translate(to='hi')"
   ]
  },
  {
   "cell_type": "code",
   "execution_count": 30,
   "id": "d471e666",
   "metadata": {},
   "outputs": [
    {
     "data": {
      "text/plain": [
       "'hi'"
      ]
     },
     "execution_count": 30,
     "metadata": {},
     "output_type": "execute_result"
    }
   ],
   "source": [
    "blob = TextBlob(\"कुछ होना कुछ नहीं होने से बेहतर है\")\n",
    "blob.detect_language()"
   ]
  },
  {
   "cell_type": "code",
   "execution_count": 31,
   "id": "7aaac84d",
   "metadata": {},
   "outputs": [],
   "source": [
    "text3 = \"\"\"\n",
    "The Election Commission on Friday debarred Assam Minister and BJP leader Himanta Biswa Sarma from campaigning for ongoing Assam elections for 48 hours with effect from today. This came after Sarma allegedly made threatening remarks against opposition leader Hagrama Mohilary of the Bodoland People's Front. EC had on Thursday asked Sarma for an explanation by today over his remarks.\n",
    "\"\"\"\n"
   ]
  },
  {
   "cell_type": "code",
   "execution_count": 33,
   "id": "eda2b928",
   "metadata": {},
   "outputs": [
    {
     "data": {
      "text/plain": [
       "['Election',\n",
       " 'Commission',\n",
       " 'Friday',\n",
       " 'Assam',\n",
       " 'Minister',\n",
       " 'BJP',\n",
       " 'Himanta',\n",
       " 'Biswa',\n",
       " 'Sarma',\n",
       " 'Assam',\n",
       " 'Sarma',\n",
       " 'Hagrama',\n",
       " 'Mohilary',\n",
       " 'Bodoland',\n",
       " 'People',\n",
       " 'Front',\n",
       " 'EC',\n",
       " 'Thursday',\n",
       " 'Sarma']"
      ]
     },
     "execution_count": 33,
     "metadata": {},
     "output_type": "execute_result"
    }
   ],
   "source": [
    "blob = TextBlob(text3)\n",
    "nnp=[]\n",
    "for tag in blob.tags:\n",
    "    if tag[1]=='NNP':\n",
    "        nnp.append(tag[0])\n",
    "nnp"
   ]
  },
  {
   "cell_type": "code",
   "execution_count": 34,
   "id": "46765eff",
   "metadata": {},
   "outputs": [],
   "source": [
    "# Load the data\n",
    "\n",
    "train = [\n",
    "     ('I love this sandwich.', 'pos'),\n",
    "     ('this is an amazing place!', 'pos'),\n",
    "     ('I feel very good about these beers.', 'pos'),\n",
    "     ('this is my best work.', 'pos'),\n",
    "     (\"what an awesome view\", 'pos'),\n",
    "     ('I do not like this restaurant', 'neg'),\n",
    "     ('I am tired of this stuff.', 'neg'),\n",
    "     (\"I can't deal with this\", 'neg'),\n",
    "     ('he is my sworn enemy!', 'neg'),\n",
    "     ('my boss is horrible.', 'neg')\n",
    "]\n",
    "\n",
    "test = [\n",
    "     ('the beer was good.', 'pos'),\n",
    "     ('I do not enjoy my job', 'neg'),\n",
    "     (\"I ain't feeling dandy today.\", 'neg'),\n",
    "     (\"I feel amazing!\", 'pos'),\n",
    "     ('Gary is a friend of mine.', 'pos'),\n",
    "     (\"I can't believe I'm doing this.\", 'neg')\n",
    "]"
   ]
  },
  {
   "cell_type": "code",
   "execution_count": 35,
   "id": "5f0adfe5",
   "metadata": {},
   "outputs": [
    {
     "data": {
      "text/plain": [
       "0.8333333333333334"
      ]
     },
     "execution_count": 35,
     "metadata": {},
     "output_type": "execute_result"
    }
   ],
   "source": [
    "from textblob.classifiers import NaiveBayesClassifier\n",
    "cl = NaiveBayesClassifier(train)\n",
    "cl.accuracy(test)"
   ]
  },
  {
   "cell_type": "code",
   "execution_count": 36,
   "id": "43ad100a",
   "metadata": {},
   "outputs": [
    {
     "data": {
      "text/plain": [
       "'pos'"
      ]
     },
     "execution_count": 36,
     "metadata": {},
     "output_type": "execute_result"
    }
   ],
   "source": [
    "cl.classify('this is the worst library')"
   ]
  },
  {
   "cell_type": "code",
   "execution_count": null,
   "id": "9619c883",
   "metadata": {},
   "outputs": [],
   "source": []
  }
 ],
 "metadata": {
  "kernelspec": {
   "display_name": "Python 3",
   "language": "python",
   "name": "python3"
  },
  "language_info": {
   "codemirror_mode": {
    "name": "ipython",
    "version": 3
   },
   "file_extension": ".py",
   "mimetype": "text/x-python",
   "name": "python",
   "nbconvert_exporter": "python",
   "pygments_lexer": "ipython3",
   "version": "3.8.8"
  }
 },
 "nbformat": 4,
 "nbformat_minor": 5
}
