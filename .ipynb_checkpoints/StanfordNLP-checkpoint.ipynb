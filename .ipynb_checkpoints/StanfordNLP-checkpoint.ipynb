{
 "cells": [
  {
   "cell_type": "code",
   "execution_count": 1,
   "id": "83cc016e",
   "metadata": {},
   "outputs": [
    {
     "name": "stdout",
     "output_type": "stream",
     "text": [
      "Collecting stanza\n",
      "  Downloading stanza-1.2.3-py3-none-any.whl (342 kB)\n",
      "\u001b[K     |████████████████████████████████| 342 kB 5.8 MB/s eta 0:00:01\n",
      "\u001b[?25hRequirement already satisfied: numpy in /Users/Adit/opt/anaconda3/lib/python3.8/site-packages (from stanza) (1.20.1)\n",
      "Collecting torch>=1.3.0\n",
      "  Downloading torch-1.9.0-cp38-none-macosx_10_9_x86_64.whl (127.9 MB)\n",
      "\u001b[K     |████████████████████████████████| 127.9 MB 8.4 MB/s eta 0:00:01   |█▋                              | 6.3 MB 2.6 MB/s eta 0:00:48     |██▏                             | 8.5 MB 12.2 MB/s eta 0:00:10     |███▉                            | 15.3 MB 259 kB/s eta 0:07:15█████▉        | 95.1 MB 6.8 MB/s eta 0:00:05     |█████████████████████████████▏  | 116.4 MB 2.5 MB/s eta 0:00:05     |███████████████████████████████▎| 124.9 MB 3.3 MB/s eta 0:00:01     |████████████████████████████████| 127.9 MB 8.4 MB/s \n",
      "\u001b[?25hRequirement already satisfied: tqdm in /Users/Adit/opt/anaconda3/lib/python3.8/site-packages (from stanza) (4.59.0)\n",
      "Collecting protobuf\n",
      "  Downloading protobuf-3.17.3-cp38-cp38-macosx_10_9_x86_64.whl (1.0 MB)\n",
      "\u001b[K     |████████████████████████████████| 1.0 MB 9.5 MB/s eta 0:00:01\n",
      "\u001b[?25hRequirement already satisfied: requests in /Users/Adit/opt/anaconda3/lib/python3.8/site-packages (from stanza) (2.25.1)\n",
      "Requirement already satisfied: typing-extensions in /Users/Adit/opt/anaconda3/lib/python3.8/site-packages (from torch>=1.3.0->stanza) (3.7.4.3)\n",
      "Requirement already satisfied: six>=1.9 in /Users/Adit/opt/anaconda3/lib/python3.8/site-packages (from protobuf->stanza) (1.15.0)\n",
      "Requirement already satisfied: chardet<5,>=3.0.2 in /Users/Adit/opt/anaconda3/lib/python3.8/site-packages (from requests->stanza) (4.0.0)\n",
      "Requirement already satisfied: certifi>=2017.4.17 in /Users/Adit/opt/anaconda3/lib/python3.8/site-packages (from requests->stanza) (2020.12.5)\n",
      "Requirement already satisfied: idna<3,>=2.5 in /Users/Adit/opt/anaconda3/lib/python3.8/site-packages (from requests->stanza) (2.10)\n",
      "Requirement already satisfied: urllib3<1.27,>=1.21.1 in /Users/Adit/opt/anaconda3/lib/python3.8/site-packages (from requests->stanza) (1.26.4)\n",
      "Installing collected packages: torch, protobuf, stanza\n",
      "Successfully installed protobuf-3.17.3 stanza-1.2.3 torch-1.9.0\n"
     ]
    }
   ],
   "source": [
    "!pip install stanza"
   ]
  },
  {
   "cell_type": "code",
   "execution_count": 2,
   "id": "a9b443ef",
   "metadata": {},
   "outputs": [],
   "source": [
    "import stanza"
   ]
  },
  {
   "cell_type": "code",
   "execution_count": 3,
   "id": "79c9a8ff",
   "metadata": {},
   "outputs": [
    {
     "data": {
      "application/vnd.jupyter.widget-view+json": {
       "model_id": "af7fe487873a40acab05bc686a4a9ade",
       "version_major": 2,
       "version_minor": 0
      },
      "text/plain": [
       "Downloading https://raw.githubusercontent.com/stanfordnlp/stanza-resources/main/resources_1.2.2.json:   0%|   …"
      ]
     },
     "metadata": {},
     "output_type": "display_data"
    },
    {
     "name": "stderr",
     "output_type": "stream",
     "text": [
      "2021-09-12 16:25:08 INFO: Downloading default packages for language: en (English)...\n"
     ]
    },
    {
     "data": {
      "application/vnd.jupyter.widget-view+json": {
       "model_id": "79e1f8ccfc2d4ddc98eba36fc3ed3c0a",
       "version_major": 2,
       "version_minor": 0
      },
      "text/plain": [
       "Downloading http://nlp.stanford.edu/software/stanza/1.2.2/en/default.zip:   0%|          | 0.00/412M [00:00<?,…"
      ]
     },
     "metadata": {},
     "output_type": "display_data"
    },
    {
     "name": "stderr",
     "output_type": "stream",
     "text": [
      "2021-09-12 16:31:28 INFO: Finished downloading models and saved to /Users/Adit/stanza_resources.\n"
     ]
    }
   ],
   "source": [
    "stanza.download('en')"
   ]
  },
  {
   "cell_type": "code",
   "execution_count": 6,
   "id": "a0d7e6d1",
   "metadata": {},
   "outputs": [
    {
     "name": "stderr",
     "output_type": "stream",
     "text": [
      "2021-09-12 16:32:02 INFO: Loading these models for language: en (English):\n",
      "========================\n",
      "| Processor | Package  |\n",
      "------------------------\n",
      "| tokenize  | combined |\n",
      "========================\n",
      "\n",
      "2021-09-12 16:32:02 INFO: Use device: cpu\n",
      "2021-09-12 16:32:02 INFO: Loading: tokenize\n",
      "2021-09-12 16:32:02 INFO: Done loading processors!\n"
     ]
    }
   ],
   "source": [
    "stan = stanza.Pipeline('en',processors='tokenize')"
   ]
  },
  {
   "cell_type": "code",
   "execution_count": 13,
   "id": "b190288e",
   "metadata": {},
   "outputs": [],
   "source": [
    "data = 'I was going to the office on my bike when i saw a car passing by hit the tree'\n",
    "doc = stan(data)"
   ]
  },
  {
   "cell_type": "code",
   "execution_count": 14,
   "id": "7e3ba25f",
   "metadata": {},
   "outputs": [
    {
     "data": {
      "text/plain": [
       "[\n",
       "  [\n",
       "    {\n",
       "      \"id\": 1,\n",
       "      \"text\": \"I\",\n",
       "      \"start_char\": 0,\n",
       "      \"end_char\": 1\n",
       "    },\n",
       "    {\n",
       "      \"id\": 2,\n",
       "      \"text\": \"was\",\n",
       "      \"start_char\": 2,\n",
       "      \"end_char\": 5\n",
       "    },\n",
       "    {\n",
       "      \"id\": 3,\n",
       "      \"text\": \"going\",\n",
       "      \"start_char\": 6,\n",
       "      \"end_char\": 11\n",
       "    },\n",
       "    {\n",
       "      \"id\": 4,\n",
       "      \"text\": \"to\",\n",
       "      \"start_char\": 12,\n",
       "      \"end_char\": 14\n",
       "    },\n",
       "    {\n",
       "      \"id\": 5,\n",
       "      \"text\": \"the\",\n",
       "      \"start_char\": 15,\n",
       "      \"end_char\": 18\n",
       "    },\n",
       "    {\n",
       "      \"id\": 6,\n",
       "      \"text\": \"office\",\n",
       "      \"start_char\": 19,\n",
       "      \"end_char\": 25\n",
       "    },\n",
       "    {\n",
       "      \"id\": 7,\n",
       "      \"text\": \"on\",\n",
       "      \"start_char\": 26,\n",
       "      \"end_char\": 28\n",
       "    },\n",
       "    {\n",
       "      \"id\": 8,\n",
       "      \"text\": \"my\",\n",
       "      \"start_char\": 29,\n",
       "      \"end_char\": 31\n",
       "    },\n",
       "    {\n",
       "      \"id\": 9,\n",
       "      \"text\": \"bike\",\n",
       "      \"start_char\": 32,\n",
       "      \"end_char\": 36\n",
       "    },\n",
       "    {\n",
       "      \"id\": 10,\n",
       "      \"text\": \"when\",\n",
       "      \"start_char\": 37,\n",
       "      \"end_char\": 41\n",
       "    },\n",
       "    {\n",
       "      \"id\": 11,\n",
       "      \"text\": \"i\",\n",
       "      \"start_char\": 42,\n",
       "      \"end_char\": 43\n",
       "    },\n",
       "    {\n",
       "      \"id\": 12,\n",
       "      \"text\": \"saw\",\n",
       "      \"start_char\": 44,\n",
       "      \"end_char\": 47\n",
       "    },\n",
       "    {\n",
       "      \"id\": 13,\n",
       "      \"text\": \"a\",\n",
       "      \"start_char\": 48,\n",
       "      \"end_char\": 49\n",
       "    },\n",
       "    {\n",
       "      \"id\": 14,\n",
       "      \"text\": \"car\",\n",
       "      \"start_char\": 50,\n",
       "      \"end_char\": 53\n",
       "    },\n",
       "    {\n",
       "      \"id\": 15,\n",
       "      \"text\": \"passing\",\n",
       "      \"start_char\": 54,\n",
       "      \"end_char\": 61\n",
       "    },\n",
       "    {\n",
       "      \"id\": 16,\n",
       "      \"text\": \"by\",\n",
       "      \"start_char\": 62,\n",
       "      \"end_char\": 64\n",
       "    },\n",
       "    {\n",
       "      \"id\": 17,\n",
       "      \"text\": \"hit\",\n",
       "      \"start_char\": 65,\n",
       "      \"end_char\": 68\n",
       "    },\n",
       "    {\n",
       "      \"id\": 18,\n",
       "      \"text\": \"the\",\n",
       "      \"start_char\": 69,\n",
       "      \"end_char\": 72\n",
       "    },\n",
       "    {\n",
       "      \"id\": 19,\n",
       "      \"text\": \"tree\",\n",
       "      \"start_char\": 73,\n",
       "      \"end_char\": 77\n",
       "    }\n",
       "  ]\n",
       "]"
      ]
     },
     "execution_count": 14,
     "metadata": {},
     "output_type": "execute_result"
    }
   ],
   "source": [
    "doc"
   ]
  },
  {
   "cell_type": "code",
   "execution_count": 15,
   "id": "a1d9c7f0",
   "metadata": {},
   "outputs": [
    {
     "data": {
      "text/plain": [
       "1"
      ]
     },
     "execution_count": 15,
     "metadata": {},
     "output_type": "execute_result"
    }
   ],
   "source": [
    "len(doc.sentences)"
   ]
  },
  {
   "cell_type": "code",
   "execution_count": 16,
   "id": "a62f060a",
   "metadata": {},
   "outputs": [
    {
     "name": "stdout",
     "output_type": "stream",
     "text": [
      "I was going to the office on my bike when i saw a car passing by hit the tree\n"
     ]
    }
   ],
   "source": [
    "for i in doc.sentences:\n",
    "    print(i.text)"
   ]
  },
  {
   "cell_type": "code",
   "execution_count": null,
   "id": "36085115",
   "metadata": {},
   "outputs": [],
   "source": []
  }
 ],
 "metadata": {
  "kernelspec": {
   "display_name": "Python 3",
   "language": "python",
   "name": "python3"
  },
  "language_info": {
   "codemirror_mode": {
    "name": "ipython",
    "version": 3
   },
   "file_extension": ".py",
   "mimetype": "text/x-python",
   "name": "python",
   "nbconvert_exporter": "python",
   "pygments_lexer": "ipython3",
   "version": "3.8.8"
  }
 },
 "nbformat": 4,
 "nbformat_minor": 5
}
