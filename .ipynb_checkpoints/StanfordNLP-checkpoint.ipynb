{
 "cells": [
  {
   "cell_type": "code",
   "execution_count": 1,
   "id": "4cefcf4e",
   "metadata": {},
   "outputs": [
    {
     "name": "stdout",
     "output_type": "stream",
     "text": [
      "Collecting stanza\n",
      "  Downloading stanza-1.2.3-py3-none-any.whl (342 kB)\n",
      "\u001b[K     |████████████████████████████████| 342 kB 5.8 MB/s eta 0:00:01\n",
      "\u001b[?25hRequirement already satisfied: numpy in /Users/Adit/opt/anaconda3/lib/python3.8/site-packages (from stanza) (1.20.1)\n",
      "Collecting torch>=1.3.0\n",
      "  Downloading torch-1.9.0-cp38-none-macosx_10_9_x86_64.whl (127.9 MB)\n",
      "\u001b[K     |████████████████████████████████| 127.9 MB 8.4 MB/s eta 0:00:01   |█▋                              | 6.3 MB 2.6 MB/s eta 0:00:48     |██▏                             | 8.5 MB 12.2 MB/s eta 0:00:10     |███▉                            | 15.3 MB 259 kB/s eta 0:07:15█████▉        | 95.1 MB 6.8 MB/s eta 0:00:05     |█████████████████████████████▏  | 116.4 MB 2.5 MB/s eta 0:00:05     |███████████████████████████████▎| 124.9 MB 3.3 MB/s eta 0:00:01     |████████████████████████████████| 127.9 MB 8.4 MB/s \n",
      "\u001b[?25hRequirement already satisfied: tqdm in /Users/Adit/opt/anaconda3/lib/python3.8/site-packages (from stanza) (4.59.0)\n",
      "Collecting protobuf\n",
      "  Downloading protobuf-3.17.3-cp38-cp38-macosx_10_9_x86_64.whl (1.0 MB)\n",
      "\u001b[K     |████████████████████████████████| 1.0 MB 9.5 MB/s eta 0:00:01\n",
      "\u001b[?25hRequirement already satisfied: requests in /Users/Adit/opt/anaconda3/lib/python3.8/site-packages (from stanza) (2.25.1)\n",
      "Requirement already satisfied: typing-extensions in /Users/Adit/opt/anaconda3/lib/python3.8/site-packages (from torch>=1.3.0->stanza) (3.7.4.3)\n",
      "Requirement already satisfied: six>=1.9 in /Users/Adit/opt/anaconda3/lib/python3.8/site-packages (from protobuf->stanza) (1.15.0)\n",
      "Requirement already satisfied: chardet<5,>=3.0.2 in /Users/Adit/opt/anaconda3/lib/python3.8/site-packages (from requests->stanza) (4.0.0)\n",
      "Requirement already satisfied: certifi>=2017.4.17 in /Users/Adit/opt/anaconda3/lib/python3.8/site-packages (from requests->stanza) (2020.12.5)\n",
      "Requirement already satisfied: idna<3,>=2.5 in /Users/Adit/opt/anaconda3/lib/python3.8/site-packages (from requests->stanza) (2.10)\n",
      "Requirement already satisfied: urllib3<1.27,>=1.21.1 in /Users/Adit/opt/anaconda3/lib/python3.8/site-packages (from requests->stanza) (1.26.4)\n",
      "Installing collected packages: torch, protobuf, stanza\n",
      "Successfully installed protobuf-3.17.3 stanza-1.2.3 torch-1.9.0\n"
     ]
    }
   ],
   "source": [
    "!pip install stanza"
   ]
  },
  {
   "cell_type": "code",
   "execution_count": 2,
   "id": "cbd03b2a",
   "metadata": {},
   "outputs": [],
   "source": [
    "import stanza"
   ]
  },
  {
   "cell_type": "code",
   "execution_count": 3,
   "id": "f1a717a2",
   "metadata": {},
   "outputs": [
    {
     "data": {
      "application/vnd.jupyter.widget-view+json": {
       "model_id": "af7fe487873a40acab05bc686a4a9ade",
       "version_major": 2,
       "version_minor": 0
      },
      "text/plain": [
       "Downloading https://raw.githubusercontent.com/stanfordnlp/stanza-resources/main/resources_1.2.2.json:   0%|   …"
      ]
     },
     "metadata": {},
     "output_type": "display_data"
    },
    {
     "name": "stderr",
     "output_type": "stream",
     "text": [
      "2021-09-12 16:25:08 INFO: Downloading default packages for language: en (English)...\n"
     ]
    },
    {
     "data": {
      "application/vnd.jupyter.widget-view+json": {
       "model_id": "79e1f8ccfc2d4ddc98eba36fc3ed3c0a",
       "version_major": 2,
       "version_minor": 0
      },
      "text/plain": [
       "Downloading http://nlp.stanford.edu/software/stanza/1.2.2/en/default.zip:   0%|          | 0.00/412M [00:00<?,…"
      ]
     },
     "metadata": {},
     "output_type": "display_data"
    },
    {
     "name": "stderr",
     "output_type": "stream",
     "text": [
      "2021-09-12 16:31:28 INFO: Finished downloading models and saved to /Users/Adit/stanza_resources.\n"
     ]
    }
   ],
   "source": [
    "stanza.download('en')"
   ]
  },
  {
   "cell_type": "code",
   "execution_count": 6,
   "id": "0151d578",
   "metadata": {},
   "outputs": [
    {
     "name": "stderr",
     "output_type": "stream",
     "text": [
      "2021-09-12 16:32:02 INFO: Loading these models for language: en (English):\n",
      "========================\n",
      "| Processor | Package  |\n",
      "------------------------\n",
      "| tokenize  | combined |\n",
      "========================\n",
      "\n",
      "2021-09-12 16:32:02 INFO: Use device: cpu\n",
      "2021-09-12 16:32:02 INFO: Loading: tokenize\n",
      "2021-09-12 16:32:02 INFO: Done loading processors!\n"
     ]
    }
   ],
   "source": [
    "stan = stanza.Pipeline('en',processors='tokenize')"
   ]
  },
  {
   "cell_type": "code",
   "execution_count": 27,
   "id": "80b867f6",
   "metadata": {},
   "outputs": [
    {
     "name": "stderr",
     "output_type": "stream",
     "text": [
      "2021-09-12 17:13:38 INFO: Loading these models for language: en (English):\n",
      "=========================\n",
      "| Processor | Package   |\n",
      "-------------------------\n",
      "| tokenize  | combined  |\n",
      "| pos       | combined  |\n",
      "| lemma     | combined  |\n",
      "| depparse  | combined  |\n",
      "| sentiment | sstplus   |\n",
      "| ner       | ontonotes |\n",
      "=========================\n",
      "\n",
      "2021-09-12 17:13:38 INFO: Use device: cpu\n",
      "2021-09-12 17:13:38 INFO: Loading: tokenize\n",
      "2021-09-12 17:13:39 INFO: Loading: pos\n",
      "2021-09-12 17:13:39 INFO: Loading: lemma\n",
      "2021-09-12 17:13:39 INFO: Loading: depparse\n",
      "2021-09-12 17:13:39 INFO: Loading: sentiment\n",
      "2021-09-12 17:13:40 INFO: Loading: ner\n",
      "2021-09-12 17:13:41 INFO: Done loading processors!\n"
     ]
    }
   ],
   "source": [
    "stan = stanza.Pipeline('en')"
   ]
  },
  {
   "cell_type": "code",
   "execution_count": 28,
   "id": "45568ede",
   "metadata": {},
   "outputs": [
    {
     "name": "stderr",
     "output_type": "stream",
     "text": [
      "/Users/Adit/opt/anaconda3/lib/python3.8/site-packages/torch/nn/functional.py:652: UserWarning: Named tensors and all their associated APIs are an experimental feature and subject to change. Please do not use them for anything important until they are released as stable. (Triggered internally at  ../c10/core/TensorImpl.h:1156.)\n",
      "  return torch.max_pool1d(input, kernel_size, stride, padding, dilation, ceil_mode)\n"
     ]
    }
   ],
   "source": [
    "data = 'I was going to the office on my bike when i saw a car passing by hit the tree'\n",
    "doc = stan(data)"
   ]
  },
  {
   "cell_type": "code",
   "execution_count": null,
   "id": "f52ee303",
   "metadata": {},
   "outputs": [],
   "source": []
  },
  {
   "cell_type": "code",
   "execution_count": 29,
   "id": "293cad15",
   "metadata": {},
   "outputs": [
    {
     "data": {
      "text/plain": [
       "1"
      ]
     },
     "execution_count": 29,
     "metadata": {},
     "output_type": "execute_result"
    }
   ],
   "source": [
    "len(doc.sentences)"
   ]
  },
  {
   "cell_type": "code",
   "execution_count": 30,
   "id": "d994ab75",
   "metadata": {},
   "outputs": [
    {
     "data": {
      "text/plain": [
       "[[\n",
       "   {\n",
       "     \"id\": 1,\n",
       "     \"text\": \"I\",\n",
       "     \"lemma\": \"I\",\n",
       "     \"upos\": \"PRON\",\n",
       "     \"xpos\": \"PRP\",\n",
       "     \"feats\": \"Case=Nom|Number=Sing|Person=1|PronType=Prs\",\n",
       "     \"head\": 3,\n",
       "     \"deprel\": \"nsubj\",\n",
       "     \"start_char\": 0,\n",
       "     \"end_char\": 1,\n",
       "     \"ner\": \"O\"\n",
       "   },\n",
       "   {\n",
       "     \"id\": 2,\n",
       "     \"text\": \"was\",\n",
       "     \"lemma\": \"be\",\n",
       "     \"upos\": \"AUX\",\n",
       "     \"xpos\": \"VBD\",\n",
       "     \"feats\": \"Mood=Ind|Number=Sing|Person=3|Tense=Past|VerbForm=Fin\",\n",
       "     \"head\": 3,\n",
       "     \"deprel\": \"aux\",\n",
       "     \"start_char\": 2,\n",
       "     \"end_char\": 5,\n",
       "     \"ner\": \"O\"\n",
       "   },\n",
       "   {\n",
       "     \"id\": 3,\n",
       "     \"text\": \"going\",\n",
       "     \"lemma\": \"go\",\n",
       "     \"upos\": \"VERB\",\n",
       "     \"xpos\": \"VBG\",\n",
       "     \"feats\": \"Tense=Pres|VerbForm=Part\",\n",
       "     \"head\": 0,\n",
       "     \"deprel\": \"root\",\n",
       "     \"start_char\": 6,\n",
       "     \"end_char\": 11,\n",
       "     \"ner\": \"O\"\n",
       "   },\n",
       "   {\n",
       "     \"id\": 4,\n",
       "     \"text\": \"to\",\n",
       "     \"lemma\": \"to\",\n",
       "     \"upos\": \"ADP\",\n",
       "     \"xpos\": \"IN\",\n",
       "     \"head\": 6,\n",
       "     \"deprel\": \"case\",\n",
       "     \"start_char\": 12,\n",
       "     \"end_char\": 14,\n",
       "     \"ner\": \"O\"\n",
       "   },\n",
       "   {\n",
       "     \"id\": 5,\n",
       "     \"text\": \"the\",\n",
       "     \"lemma\": \"the\",\n",
       "     \"upos\": \"DET\",\n",
       "     \"xpos\": \"DT\",\n",
       "     \"feats\": \"Definite=Def|PronType=Art\",\n",
       "     \"head\": 6,\n",
       "     \"deprel\": \"det\",\n",
       "     \"start_char\": 15,\n",
       "     \"end_char\": 18,\n",
       "     \"ner\": \"O\"\n",
       "   },\n",
       "   {\n",
       "     \"id\": 6,\n",
       "     \"text\": \"office\",\n",
       "     \"lemma\": \"office\",\n",
       "     \"upos\": \"NOUN\",\n",
       "     \"xpos\": \"NN\",\n",
       "     \"feats\": \"Number=Sing\",\n",
       "     \"head\": 3,\n",
       "     \"deprel\": \"obl\",\n",
       "     \"start_char\": 19,\n",
       "     \"end_char\": 25,\n",
       "     \"ner\": \"O\"\n",
       "   },\n",
       "   {\n",
       "     \"id\": 7,\n",
       "     \"text\": \"on\",\n",
       "     \"lemma\": \"on\",\n",
       "     \"upos\": \"ADP\",\n",
       "     \"xpos\": \"IN\",\n",
       "     \"head\": 9,\n",
       "     \"deprel\": \"case\",\n",
       "     \"start_char\": 26,\n",
       "     \"end_char\": 28,\n",
       "     \"ner\": \"O\"\n",
       "   },\n",
       "   {\n",
       "     \"id\": 8,\n",
       "     \"text\": \"my\",\n",
       "     \"lemma\": \"my\",\n",
       "     \"upos\": \"PRON\",\n",
       "     \"xpos\": \"PRP$\",\n",
       "     \"feats\": \"Number=Sing|Person=1|Poss=Yes|PronType=Prs\",\n",
       "     \"head\": 9,\n",
       "     \"deprel\": \"nmod:poss\",\n",
       "     \"start_char\": 29,\n",
       "     \"end_char\": 31,\n",
       "     \"ner\": \"O\"\n",
       "   },\n",
       "   {\n",
       "     \"id\": 9,\n",
       "     \"text\": \"bike\",\n",
       "     \"lemma\": \"bike\",\n",
       "     \"upos\": \"NOUN\",\n",
       "     \"xpos\": \"NN\",\n",
       "     \"feats\": \"Number=Sing\",\n",
       "     \"head\": 3,\n",
       "     \"deprel\": \"obl\",\n",
       "     \"start_char\": 32,\n",
       "     \"end_char\": 36,\n",
       "     \"ner\": \"O\"\n",
       "   },\n",
       "   {\n",
       "     \"id\": 10,\n",
       "     \"text\": \"when\",\n",
       "     \"lemma\": \"when\",\n",
       "     \"upos\": \"SCONJ\",\n",
       "     \"xpos\": \"WRB\",\n",
       "     \"feats\": \"PronType=Int\",\n",
       "     \"head\": 12,\n",
       "     \"deprel\": \"mark\",\n",
       "     \"start_char\": 37,\n",
       "     \"end_char\": 41,\n",
       "     \"ner\": \"O\"\n",
       "   },\n",
       "   {\n",
       "     \"id\": 11,\n",
       "     \"text\": \"i\",\n",
       "     \"lemma\": \"I\",\n",
       "     \"upos\": \"PRON\",\n",
       "     \"xpos\": \"PRP\",\n",
       "     \"feats\": \"Case=Nom|Number=Sing|Person=1|PronType=Prs\",\n",
       "     \"head\": 12,\n",
       "     \"deprel\": \"nsubj\",\n",
       "     \"start_char\": 42,\n",
       "     \"end_char\": 43,\n",
       "     \"ner\": \"O\"\n",
       "   },\n",
       "   {\n",
       "     \"id\": 12,\n",
       "     \"text\": \"saw\",\n",
       "     \"lemma\": \"see\",\n",
       "     \"upos\": \"VERB\",\n",
       "     \"xpos\": \"VBD\",\n",
       "     \"feats\": \"Mood=Ind|Tense=Past|VerbForm=Fin\",\n",
       "     \"head\": 3,\n",
       "     \"deprel\": \"advcl\",\n",
       "     \"start_char\": 44,\n",
       "     \"end_char\": 47,\n",
       "     \"ner\": \"O\"\n",
       "   },\n",
       "   {\n",
       "     \"id\": 13,\n",
       "     \"text\": \"a\",\n",
       "     \"lemma\": \"a\",\n",
       "     \"upos\": \"DET\",\n",
       "     \"xpos\": \"DT\",\n",
       "     \"feats\": \"Definite=Ind|PronType=Art\",\n",
       "     \"head\": 14,\n",
       "     \"deprel\": \"det\",\n",
       "     \"start_char\": 48,\n",
       "     \"end_char\": 49,\n",
       "     \"ner\": \"O\"\n",
       "   },\n",
       "   {\n",
       "     \"id\": 14,\n",
       "     \"text\": \"car\",\n",
       "     \"lemma\": \"car\",\n",
       "     \"upos\": \"NOUN\",\n",
       "     \"xpos\": \"NN\",\n",
       "     \"feats\": \"Number=Sing\",\n",
       "     \"head\": 12,\n",
       "     \"deprel\": \"obj\",\n",
       "     \"start_char\": 50,\n",
       "     \"end_char\": 53,\n",
       "     \"ner\": \"O\"\n",
       "   },\n",
       "   {\n",
       "     \"id\": 15,\n",
       "     \"text\": \"passing\",\n",
       "     \"lemma\": \"pass\",\n",
       "     \"upos\": \"VERB\",\n",
       "     \"xpos\": \"VBG\",\n",
       "     \"feats\": \"VerbForm=Ger\",\n",
       "     \"head\": 14,\n",
       "     \"deprel\": \"acl\",\n",
       "     \"start_char\": 54,\n",
       "     \"end_char\": 61,\n",
       "     \"ner\": \"O\"\n",
       "   },\n",
       "   {\n",
       "     \"id\": 16,\n",
       "     \"text\": \"by\",\n",
       "     \"lemma\": \"by\",\n",
       "     \"upos\": \"SCONJ\",\n",
       "     \"xpos\": \"IN\",\n",
       "     \"head\": 17,\n",
       "     \"deprel\": \"mark\",\n",
       "     \"start_char\": 62,\n",
       "     \"end_char\": 64,\n",
       "     \"ner\": \"O\"\n",
       "   },\n",
       "   {\n",
       "     \"id\": 17,\n",
       "     \"text\": \"hit\",\n",
       "     \"lemma\": \"hit\",\n",
       "     \"upos\": \"VERB\",\n",
       "     \"xpos\": \"VB\",\n",
       "     \"feats\": \"VerbForm=Inf\",\n",
       "     \"head\": 15,\n",
       "     \"deprel\": \"advcl\",\n",
       "     \"start_char\": 65,\n",
       "     \"end_char\": 68,\n",
       "     \"ner\": \"O\"\n",
       "   },\n",
       "   {\n",
       "     \"id\": 18,\n",
       "     \"text\": \"the\",\n",
       "     \"lemma\": \"the\",\n",
       "     \"upos\": \"DET\",\n",
       "     \"xpos\": \"DT\",\n",
       "     \"feats\": \"Definite=Def|PronType=Art\",\n",
       "     \"head\": 19,\n",
       "     \"deprel\": \"det\",\n",
       "     \"start_char\": 69,\n",
       "     \"end_char\": 72,\n",
       "     \"ner\": \"O\"\n",
       "   },\n",
       "   {\n",
       "     \"id\": 19,\n",
       "     \"text\": \"tree\",\n",
       "     \"lemma\": \"tree\",\n",
       "     \"upos\": \"NOUN\",\n",
       "     \"xpos\": \"NN\",\n",
       "     \"feats\": \"Number=Sing\",\n",
       "     \"head\": 17,\n",
       "     \"deprel\": \"obj\",\n",
       "     \"start_char\": 73,\n",
       "     \"end_char\": 77,\n",
       "     \"ner\": \"O\"\n",
       "   }\n",
       " ]]"
      ]
     },
     "execution_count": 30,
     "metadata": {},
     "output_type": "execute_result"
    }
   ],
   "source": [
    "doc.sentences"
   ]
  },
  {
   "cell_type": "code",
   "execution_count": 31,
   "id": "77839ad9",
   "metadata": {},
   "outputs": [
    {
     "name": "stdout",
     "output_type": "stream",
     "text": [
      "I was going to the office on my bike when i saw a car passing by hit the tree\n"
     ]
    }
   ],
   "source": [
    "for i in doc.sentences:\n",
    "    print(i.text)"
   ]
  },
  {
   "cell_type": "code",
   "execution_count": 32,
   "id": "922d1063",
   "metadata": {},
   "outputs": [
    {
     "name": "stdout",
     "output_type": "stream",
     "text": [
      "I --> I\n",
      "was --> be\n",
      "going --> go\n",
      "to --> to\n",
      "the --> the\n",
      "office --> office\n",
      "on --> on\n",
      "my --> my\n",
      "bike --> bike\n",
      "when --> when\n",
      "i --> I\n",
      "saw --> see\n",
      "a --> a\n",
      "car --> car\n",
      "passing --> pass\n",
      "by --> by\n",
      "hit --> hit\n",
      "the --> the\n",
      "tree --> tree\n"
     ]
    }
   ],
   "source": [
    "for i in doc.sentences:\n",
    "    for j in i.words:\n",
    "        print(f'{j.text} --> {j.lemma}')"
   ]
  },
  {
   "cell_type": "code",
   "execution_count": 22,
   "id": "926c2966",
   "metadata": {},
   "outputs": [
    {
     "name": "stdout",
     "output_type": "stream",
     "text": [
      "Collecting spacy_stanza\n",
      "  Downloading spacy_stanza-1.0.0-py3-none-any.whl (9.7 kB)\n",
      "Requirement already satisfied: stanza<1.3.0,>=1.2.0 in /Users/Adit/opt/anaconda3/lib/python3.8/site-packages (from spacy_stanza) (1.2.3)\n",
      "Requirement already satisfied: spacy<4.0.0,>=3.0.0 in /Users/Adit/opt/anaconda3/lib/python3.8/site-packages (from spacy_stanza) (3.0.6)\n",
      "Requirement already satisfied: pathy>=0.3.5 in /Users/Adit/opt/anaconda3/lib/python3.8/site-packages (from spacy<4.0.0,>=3.0.0->spacy_stanza) (0.5.2)\n",
      "Requirement already satisfied: preshed<3.1.0,>=3.0.2 in /Users/Adit/opt/anaconda3/lib/python3.8/site-packages (from spacy<4.0.0,>=3.0.0->spacy_stanza) (3.0.5)\n",
      "Requirement already satisfied: wasabi<1.1.0,>=0.8.1 in /Users/Adit/opt/anaconda3/lib/python3.8/site-packages (from spacy<4.0.0,>=3.0.0->spacy_stanza) (0.8.2)\n",
      "Requirement already satisfied: blis<0.8.0,>=0.4.0 in /Users/Adit/opt/anaconda3/lib/python3.8/site-packages (from spacy<4.0.0,>=3.0.0->spacy_stanza) (0.7.4)\n",
      "Requirement already satisfied: murmurhash<1.1.0,>=0.28.0 in /Users/Adit/opt/anaconda3/lib/python3.8/site-packages (from spacy<4.0.0,>=3.0.0->spacy_stanza) (1.0.5)\n",
      "Requirement already satisfied: catalogue<2.1.0,>=2.0.3 in /Users/Adit/opt/anaconda3/lib/python3.8/site-packages (from spacy<4.0.0,>=3.0.0->spacy_stanza) (2.0.4)\n",
      "Requirement already satisfied: typer<0.4.0,>=0.3.0 in /Users/Adit/opt/anaconda3/lib/python3.8/site-packages (from spacy<4.0.0,>=3.0.0->spacy_stanza) (0.3.2)\n",
      "Requirement already satisfied: jinja2 in /Users/Adit/opt/anaconda3/lib/python3.8/site-packages (from spacy<4.0.0,>=3.0.0->spacy_stanza) (2.11.3)\n",
      "Requirement already satisfied: setuptools in /Users/Adit/opt/anaconda3/lib/python3.8/site-packages (from spacy<4.0.0,>=3.0.0->spacy_stanza) (52.0.0.post20210125)\n",
      "Requirement already satisfied: packaging>=20.0 in /Users/Adit/opt/anaconda3/lib/python3.8/site-packages (from spacy<4.0.0,>=3.0.0->spacy_stanza) (20.9)\n",
      "Requirement already satisfied: requests<3.0.0,>=2.13.0 in /Users/Adit/opt/anaconda3/lib/python3.8/site-packages (from spacy<4.0.0,>=3.0.0->spacy_stanza) (2.25.1)\n",
      "Requirement already satisfied: spacy-legacy<3.1.0,>=3.0.4 in /Users/Adit/opt/anaconda3/lib/python3.8/site-packages (from spacy<4.0.0,>=3.0.0->spacy_stanza) (3.0.5)\n",
      "Requirement already satisfied: cymem<2.1.0,>=2.0.2 in /Users/Adit/opt/anaconda3/lib/python3.8/site-packages (from spacy<4.0.0,>=3.0.0->spacy_stanza) (2.0.5)\n",
      "Requirement already satisfied: tqdm<5.0.0,>=4.38.0 in /Users/Adit/opt/anaconda3/lib/python3.8/site-packages (from spacy<4.0.0,>=3.0.0->spacy_stanza) (4.59.0)\n",
      "Requirement already satisfied: pydantic<1.8.0,>=1.7.1 in /Users/Adit/opt/anaconda3/lib/python3.8/site-packages (from spacy<4.0.0,>=3.0.0->spacy_stanza) (1.7.4)\n",
      "Requirement already satisfied: srsly<3.0.0,>=2.4.1 in /Users/Adit/opt/anaconda3/lib/python3.8/site-packages (from spacy<4.0.0,>=3.0.0->spacy_stanza) (2.4.1)\n",
      "Requirement already satisfied: thinc<8.1.0,>=8.0.3 in /Users/Adit/opt/anaconda3/lib/python3.8/site-packages (from spacy<4.0.0,>=3.0.0->spacy_stanza) (8.0.4)\n",
      "Requirement already satisfied: numpy>=1.15.0 in /Users/Adit/opt/anaconda3/lib/python3.8/site-packages (from spacy<4.0.0,>=3.0.0->spacy_stanza) (1.20.1)\n",
      "Requirement already satisfied: pyparsing>=2.0.2 in /Users/Adit/opt/anaconda3/lib/python3.8/site-packages (from packaging>=20.0->spacy<4.0.0,>=3.0.0->spacy_stanza) (2.4.7)\n",
      "Requirement already satisfied: smart-open<4.0.0,>=2.2.0 in /Users/Adit/opt/anaconda3/lib/python3.8/site-packages (from pathy>=0.3.5->spacy<4.0.0,>=3.0.0->spacy_stanza) (3.0.0)\n",
      "Requirement already satisfied: certifi>=2017.4.17 in /Users/Adit/opt/anaconda3/lib/python3.8/site-packages (from requests<3.0.0,>=2.13.0->spacy<4.0.0,>=3.0.0->spacy_stanza) (2020.12.5)\n",
      "Requirement already satisfied: chardet<5,>=3.0.2 in /Users/Adit/opt/anaconda3/lib/python3.8/site-packages (from requests<3.0.0,>=2.13.0->spacy<4.0.0,>=3.0.0->spacy_stanza) (4.0.0)\n",
      "Requirement already satisfied: urllib3<1.27,>=1.21.1 in /Users/Adit/opt/anaconda3/lib/python3.8/site-packages (from requests<3.0.0,>=2.13.0->spacy<4.0.0,>=3.0.0->spacy_stanza) (1.26.4)\n",
      "Requirement already satisfied: idna<3,>=2.5 in /Users/Adit/opt/anaconda3/lib/python3.8/site-packages (from requests<3.0.0,>=2.13.0->spacy<4.0.0,>=3.0.0->spacy_stanza) (2.10)\n",
      "Requirement already satisfied: torch>=1.3.0 in /Users/Adit/opt/anaconda3/lib/python3.8/site-packages (from stanza<1.3.0,>=1.2.0->spacy_stanza) (1.9.0)\n",
      "Requirement already satisfied: protobuf in /Users/Adit/opt/anaconda3/lib/python3.8/site-packages (from stanza<1.3.0,>=1.2.0->spacy_stanza) (3.17.3)\n",
      "Requirement already satisfied: typing-extensions in /Users/Adit/opt/anaconda3/lib/python3.8/site-packages (from torch>=1.3.0->stanza<1.3.0,>=1.2.0->spacy_stanza) (3.7.4.3)\n",
      "Requirement already satisfied: click<7.2.0,>=7.1.1 in /Users/Adit/opt/anaconda3/lib/python3.8/site-packages (from typer<0.4.0,>=0.3.0->spacy<4.0.0,>=3.0.0->spacy_stanza) (7.1.2)\n",
      "Requirement already satisfied: MarkupSafe>=0.23 in /Users/Adit/opt/anaconda3/lib/python3.8/site-packages (from jinja2->spacy<4.0.0,>=3.0.0->spacy_stanza) (1.1.1)\n",
      "Requirement already satisfied: six>=1.9 in /Users/Adit/opt/anaconda3/lib/python3.8/site-packages (from protobuf->stanza<1.3.0,>=1.2.0->spacy_stanza) (1.15.0)\n",
      "Installing collected packages: spacy-stanza\n",
      "Successfully installed spacy-stanza-1.0.0\n"
     ]
    }
   ],
   "source": [
    "!pip install spacy_stanza"
   ]
  },
  {
   "cell_type": "code",
   "execution_count": 33,
   "id": "6339bbf8",
   "metadata": {},
   "outputs": [],
   "source": [
    "import spacy_stanza\n"
   ]
  },
  {
   "cell_type": "code",
   "execution_count": 38,
   "id": "a933d75c",
   "metadata": {},
   "outputs": [
    {
     "name": "stderr",
     "output_type": "stream",
     "text": [
      "2021-09-12 17:16:44 INFO: Loading these models for language: en (English):\n",
      "=========================\n",
      "| Processor | Package   |\n",
      "-------------------------\n",
      "| tokenize  | combined  |\n",
      "| pos       | combined  |\n",
      "| lemma     | combined  |\n",
      "| depparse  | combined  |\n",
      "| sentiment | sstplus   |\n",
      "| ner       | ontonotes |\n",
      "=========================\n",
      "\n",
      "2021-09-12 17:16:44 INFO: Use device: cpu\n",
      "2021-09-12 17:16:44 INFO: Loading: tokenize\n",
      "2021-09-12 17:16:44 INFO: Loading: pos\n",
      "2021-09-12 17:16:45 INFO: Loading: lemma\n",
      "2021-09-12 17:16:45 INFO: Loading: depparse\n",
      "2021-09-12 17:16:46 INFO: Loading: sentiment\n",
      "2021-09-12 17:16:46 INFO: Loading: ner\n",
      "2021-09-12 17:16:48 INFO: Done loading processors!\n"
     ]
    }
   ],
   "source": [
    "doc = spacy_stanza.load_pipeline('en')\n",
    "data = 'I was going to the office on my bike when i saw a car passing by hit the tree'\n",
    "analytics = doc(data)"
   ]
  },
  {
   "cell_type": "code",
   "execution_count": 39,
   "id": "aee5ecf6",
   "metadata": {},
   "outputs": [
    {
     "name": "stdout",
     "output_type": "stream",
     "text": [
      "I PRON I\n",
      "was AUX be\n",
      "going VERB go\n",
      "to ADP to\n",
      "the DET the\n",
      "office NOUN office\n",
      "on ADP on\n",
      "my PRON my\n",
      "bike NOUN bike\n",
      "when SCONJ when\n",
      "i PRON I\n",
      "saw VERB see\n",
      "a DET a\n",
      "car NOUN car\n",
      "passing VERB pass\n",
      "by SCONJ by\n",
      "hit VERB hit\n",
      "the DET the\n",
      "tree NOUN tree\n"
     ]
    }
   ],
   "source": [
    "for i in analytics:\n",
    "    print(i.text,i.pos_,i.lemma_)"
   ]
  },
  {
   "cell_type": "code",
   "execution_count": null,
   "id": "d61c0c2d",
   "metadata": {},
   "outputs": [],
   "source": []
  }
 ],
 "metadata": {
  "kernelspec": {
   "display_name": "Python 3",
   "language": "python",
   "name": "python3"
  },
  "language_info": {
   "codemirror_mode": {
    "name": "ipython",
    "version": 3
   },
   "file_extension": ".py",
   "mimetype": "text/x-python",
   "name": "python",
   "nbconvert_exporter": "python",
   "pygments_lexer": "ipython3",
   "version": "3.8.8"
  }
 },
 "nbformat": 4,
 "nbformat_minor": 5
}
