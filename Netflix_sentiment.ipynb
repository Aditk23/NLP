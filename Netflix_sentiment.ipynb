{
 "cells": [
  {
   "cell_type": "code",
   "execution_count": 1,
   "id": "2f488d7e",
   "metadata": {},
   "outputs": [],
   "source": [
    "import numpy as np\n",
    "import pandas as pd\n",
    "import nltk\n",
    "import string\n",
    "from nltk.corpus import stopwords\n",
    "from sklearn.model_selection import train_test_split\n",
    "from sklearn.feature_extraction.text import TfidfVectorizer , CountVectorizer"
   ]
  },
  {
   "cell_type": "code",
   "execution_count": 2,
   "id": "95dbd204",
   "metadata": {},
   "outputs": [],
   "source": [
    "pos_review = pd.read_csv('pos.txt',encoding='latin-1',header=None,sep='\\n')\n",
    "pos_review['mood']=1\n",
    "pos_review.rename(columns={0:'review'},inplace=True)\n",
    "neg_review = pd.read_csv('negative.txt',encoding='latin-1',header=None,sep='\\n')\n",
    "neg_review['mood']=0\n",
    "neg_review.rename(columns={0:'review'},inplace=True)"
   ]
  },
  {
   "cell_type": "code",
   "execution_count": 3,
   "id": "ee8802cd",
   "metadata": {},
   "outputs": [
    {
     "data": {
      "text/html": [
       "<div>\n",
       "<style scoped>\n",
       "    .dataframe tbody tr th:only-of-type {\n",
       "        vertical-align: middle;\n",
       "    }\n",
       "\n",
       "    .dataframe tbody tr th {\n",
       "        vertical-align: top;\n",
       "    }\n",
       "\n",
       "    .dataframe thead th {\n",
       "        text-align: right;\n",
       "    }\n",
       "</style>\n",
       "<table border=\"1\" class=\"dataframe\">\n",
       "  <thead>\n",
       "    <tr style=\"text-align: right;\">\n",
       "      <th></th>\n",
       "      <th>review</th>\n",
       "      <th>mood</th>\n",
       "    </tr>\n",
       "  </thead>\n",
       "  <tbody>\n",
       "    <tr>\n",
       "      <th>0</th>\n",
       "      <td>the rock is destined to be the 21st century's ...</td>\n",
       "      <td>1</td>\n",
       "    </tr>\n",
       "    <tr>\n",
       "      <th>1</th>\n",
       "      <td>the gorgeously elaborate continuation of \" the...</td>\n",
       "      <td>1</td>\n",
       "    </tr>\n",
       "    <tr>\n",
       "      <th>2</th>\n",
       "      <td>effective but too-tepid biopic</td>\n",
       "      <td>1</td>\n",
       "    </tr>\n",
       "    <tr>\n",
       "      <th>3</th>\n",
       "      <td>if you sometimes like to go to the movies to h...</td>\n",
       "      <td>1</td>\n",
       "    </tr>\n",
       "    <tr>\n",
       "      <th>4</th>\n",
       "      <td>emerges as something rare , an issue movie tha...</td>\n",
       "      <td>1</td>\n",
       "    </tr>\n",
       "    <tr>\n",
       "      <th>...</th>\n",
       "      <td>...</td>\n",
       "      <td>...</td>\n",
       "    </tr>\n",
       "    <tr>\n",
       "      <th>5326</th>\n",
       "      <td>both exuberantly romantic and serenely melanch...</td>\n",
       "      <td>1</td>\n",
       "    </tr>\n",
       "    <tr>\n",
       "      <th>5327</th>\n",
       "      <td>mazel tov to a film about a family's joyous li...</td>\n",
       "      <td>1</td>\n",
       "    </tr>\n",
       "    <tr>\n",
       "      <th>5328</th>\n",
       "      <td>standing in the shadows of motown is the best ...</td>\n",
       "      <td>1</td>\n",
       "    </tr>\n",
       "    <tr>\n",
       "      <th>5329</th>\n",
       "      <td>it's nice to see piscopo again after all these...</td>\n",
       "      <td>1</td>\n",
       "    </tr>\n",
       "    <tr>\n",
       "      <th>5330</th>\n",
       "      <td>provides a porthole into that noble , tremblin...</td>\n",
       "      <td>1</td>\n",
       "    </tr>\n",
       "  </tbody>\n",
       "</table>\n",
       "<p>5331 rows × 2 columns</p>\n",
       "</div>"
      ],
      "text/plain": [
       "                                                 review  mood\n",
       "0     the rock is destined to be the 21st century's ...     1\n",
       "1     the gorgeously elaborate continuation of \" the...     1\n",
       "2                        effective but too-tepid biopic     1\n",
       "3     if you sometimes like to go to the movies to h...     1\n",
       "4     emerges as something rare , an issue movie tha...     1\n",
       "...                                                 ...   ...\n",
       "5326  both exuberantly romantic and serenely melanch...     1\n",
       "5327  mazel tov to a film about a family's joyous li...     1\n",
       "5328  standing in the shadows of motown is the best ...     1\n",
       "5329  it's nice to see piscopo again after all these...     1\n",
       "5330  provides a porthole into that noble , tremblin...     1\n",
       "\n",
       "[5331 rows x 2 columns]"
      ]
     },
     "execution_count": 3,
     "metadata": {},
     "output_type": "execute_result"
    }
   ],
   "source": [
    "pos_review"
   ]
  },
  {
   "cell_type": "code",
   "execution_count": 4,
   "id": "98f89070",
   "metadata": {},
   "outputs": [
    {
     "data": {
      "text/html": [
       "<div>\n",
       "<style scoped>\n",
       "    .dataframe tbody tr th:only-of-type {\n",
       "        vertical-align: middle;\n",
       "    }\n",
       "\n",
       "    .dataframe tbody tr th {\n",
       "        vertical-align: top;\n",
       "    }\n",
       "\n",
       "    .dataframe thead th {\n",
       "        text-align: right;\n",
       "    }\n",
       "</style>\n",
       "<table border=\"1\" class=\"dataframe\">\n",
       "  <thead>\n",
       "    <tr style=\"text-align: right;\">\n",
       "      <th></th>\n",
       "      <th>review</th>\n",
       "      <th>mood</th>\n",
       "    </tr>\n",
       "  </thead>\n",
       "  <tbody>\n",
       "    <tr>\n",
       "      <th>0</th>\n",
       "      <td>simplistic , silly and tedious.</td>\n",
       "      <td>0</td>\n",
       "    </tr>\n",
       "    <tr>\n",
       "      <th>1</th>\n",
       "      <td>it's so laddish and juvenile , only teenage bo...</td>\n",
       "      <td>0</td>\n",
       "    </tr>\n",
       "    <tr>\n",
       "      <th>2</th>\n",
       "      <td>exploitative and largely devoid of the depth o...</td>\n",
       "      <td>0</td>\n",
       "    </tr>\n",
       "    <tr>\n",
       "      <th>3</th>\n",
       "      <td>[garbus] discards the potential for pathologic...</td>\n",
       "      <td>0</td>\n",
       "    </tr>\n",
       "    <tr>\n",
       "      <th>4</th>\n",
       "      <td>a visually flashy but narratively opaque and e...</td>\n",
       "      <td>0</td>\n",
       "    </tr>\n",
       "    <tr>\n",
       "      <th>...</th>\n",
       "      <td>...</td>\n",
       "      <td>...</td>\n",
       "    </tr>\n",
       "    <tr>\n",
       "      <th>5326</th>\n",
       "      <td>a terrible movie that some people will neverth...</td>\n",
       "      <td>0</td>\n",
       "    </tr>\n",
       "    <tr>\n",
       "      <th>5327</th>\n",
       "      <td>there are many definitions of 'time waster' bu...</td>\n",
       "      <td>0</td>\n",
       "    </tr>\n",
       "    <tr>\n",
       "      <th>5328</th>\n",
       "      <td>as it stands , crocodile hunter has the hurrie...</td>\n",
       "      <td>0</td>\n",
       "    </tr>\n",
       "    <tr>\n",
       "      <th>5329</th>\n",
       "      <td>the thing looks like a made-for-home-video qui...</td>\n",
       "      <td>0</td>\n",
       "    </tr>\n",
       "    <tr>\n",
       "      <th>5330</th>\n",
       "      <td>enigma is well-made , but it's just too dry an...</td>\n",
       "      <td>0</td>\n",
       "    </tr>\n",
       "  </tbody>\n",
       "</table>\n",
       "<p>5331 rows × 2 columns</p>\n",
       "</div>"
      ],
      "text/plain": [
       "                                                 review  mood\n",
       "0                      simplistic , silly and tedious.      0\n",
       "1     it's so laddish and juvenile , only teenage bo...     0\n",
       "2     exploitative and largely devoid of the depth o...     0\n",
       "3     [garbus] discards the potential for pathologic...     0\n",
       "4     a visually flashy but narratively opaque and e...     0\n",
       "...                                                 ...   ...\n",
       "5326  a terrible movie that some people will neverth...     0\n",
       "5327  there are many definitions of 'time waster' bu...     0\n",
       "5328  as it stands , crocodile hunter has the hurrie...     0\n",
       "5329  the thing looks like a made-for-home-video qui...     0\n",
       "5330  enigma is well-made , but it's just too dry an...     0\n",
       "\n",
       "[5331 rows x 2 columns]"
      ]
     },
     "execution_count": 4,
     "metadata": {},
     "output_type": "execute_result"
    }
   ],
   "source": [
    "neg_review\n",
    "\n"
   ]
  },
  {
   "cell_type": "code",
   "execution_count": 5,
   "id": "752d6f23",
   "metadata": {},
   "outputs": [],
   "source": [
    "pos_review['review'] = pos_review['review'].apply(lambda x:x.lower())\n",
    "sw = stopwords.words('english')\n",
    "pos_review['review'] = pos_review['review'].apply(lambda x:\"\".join([word for word in x.split() if word not in sw]))\n",
    "pos_review['review'] = pos_review['review'].apply(lambda x:\"\".join([word for word in x.split() if word not in string.punctuation]))\n"
   ]
  },
  {
   "cell_type": "code",
   "execution_count": 6,
   "id": "6c1f158f",
   "metadata": {},
   "outputs": [],
   "source": [
    "neg_review['review'] = neg_review['review'].apply(lambda x:x.lower())\n",
    "sw = stopwords.words('english')\n",
    "neg_review['review'] = neg_review['review'].apply(lambda x:\"\".join([word for word in x.split() if word not in sw]))\n",
    "neg_review['review'] = neg_review['review'].apply(lambda x:\"\".join([word for word in x.split() if word not in string.punctuation]))\n",
    "\n"
   ]
  },
  {
   "cell_type": "code",
   "execution_count": 7,
   "id": "181d1920",
   "metadata": {},
   "outputs": [],
   "source": [
    "all_data = pd.concat([pos_review,neg_review],axis=0).reset_index(drop=True)\n"
   ]
  },
  {
   "cell_type": "code",
   "execution_count": 8,
   "id": "da22a556",
   "metadata": {},
   "outputs": [],
   "source": [
    "X_train,X_test,y_train,y_test = train_test_split(all_data['review'].values,all_data['mood'].values,test_size=0.2,random_state=365)"
   ]
  },
  {
   "cell_type": "code",
   "execution_count": 9,
   "id": "e6f51c85",
   "metadata": {},
   "outputs": [
    {
     "data": {
      "text/plain": [
       "array([\"what'ssurprisingtraditionalthriller,moderatelysuccessfulcompletelysatisfying,exactlygenteelunsurprisingexecutionturns.\",\n",
       "       'threeexcellentprincipalsingers,youthfulgood-lookingdivatenorrichlyhandsomelocations,enoughmakewishjacquotleftwellenoughalonefilmedoperawithoutdistortionsperspective.',\n",
       "       'moviefeelslikepilotepisodenewteen-targetedactiontvseries.', ...,\n",
       "       \"humblinglittlefilm,fueledlightcomedicworkzhaobenshandelicatewaysdongjie,sortmoviegoerscomplain'theymakemovieslikeusedanymore.'\",\n",
       "       'storyintelligenthighschoolstudentsdealsfirstlovesweetlyalsoseriously.alsobeautifullyacted.',\n",
       "       'evenwouldlikedismissfilmoutrightfindmuchmulldebate.'],\n",
       "      dtype=object)"
      ]
     },
     "execution_count": 9,
     "metadata": {},
     "output_type": "execute_result"
    }
   ],
   "source": [
    "X_test"
   ]
  },
  {
   "cell_type": "code",
   "execution_count": null,
   "id": "ee49b63a",
   "metadata": {},
   "outputs": [],
   "source": []
  }
 ],
 "metadata": {
  "kernelspec": {
   "display_name": "Python 3",
   "language": "python",
   "name": "python3"
  },
  "language_info": {
   "codemirror_mode": {
    "name": "ipython",
    "version": 3
   },
   "file_extension": ".py",
   "mimetype": "text/x-python",
   "name": "python",
   "nbconvert_exporter": "python",
   "pygments_lexer": "ipython3",
   "version": "3.8.8"
  }
 },
 "nbformat": 4,
 "nbformat_minor": 5
}
