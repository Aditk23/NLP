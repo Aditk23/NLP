{
 "cells": [
  {
   "cell_type": "code",
   "execution_count": 1,
   "id": "663ffda4",
   "metadata": {},
   "outputs": [
    {
     "name": "stdout",
     "output_type": "stream",
     "text": [
      "Requirement already satisfied: nltk in /Users/Adit/opt/anaconda3/lib/python3.8/site-packages (3.6.1)\n",
      "Requirement already satisfied: regex in /Users/Adit/opt/anaconda3/lib/python3.8/site-packages (from nltk) (2021.4.4)\n",
      "Requirement already satisfied: click in /Users/Adit/opt/anaconda3/lib/python3.8/site-packages (from nltk) (7.1.2)\n",
      "Requirement already satisfied: joblib in /Users/Adit/opt/anaconda3/lib/python3.8/site-packages (from nltk) (1.0.1)\n",
      "Requirement already satisfied: tqdm in /Users/Adit/opt/anaconda3/lib/python3.8/site-packages (from nltk) (4.59.0)\n"
     ]
    }
   ],
   "source": [
    "!pip install nltk"
   ]
  },
  {
   "cell_type": "code",
   "execution_count": 2,
   "id": "3b975e9c",
   "metadata": {},
   "outputs": [
    {
     "name": "stderr",
     "output_type": "stream",
     "text": [
      "[nltk_data] Downloading package punkt to /Users/Adit/nltk_data...\n",
      "[nltk_data]   Unzipping tokenizers/punkt.zip.\n"
     ]
    },
    {
     "data": {
      "text/plain": [
       "True"
      ]
     },
     "execution_count": 2,
     "metadata": {},
     "output_type": "execute_result"
    }
   ],
   "source": [
    "import nltk\n",
    "nltk.download(\"punkt\")"
   ]
  },
  {
   "cell_type": "code",
   "execution_count": 3,
   "id": "cf500f56",
   "metadata": {},
   "outputs": [],
   "source": [
    "data = \"India (Hindi: Bhārat), officially the Republic of India, is a country in South Asia. It is the seventh-largest country by area, the second-most populous country, and the most populous democracy in the world. Bounded by the Indian Ocean on the south, the Arabian Sea on the southwest, and the Bay of Bengal on the southeast, it shares land borders with Pakistan to the west; China, Nepal, and Bhutan to the north; and Bangladesh and Myanmar to the east. In the Indian Ocean, India is in the vicinity of Sri Lanka and the Maldives; its Andaman and Nicobar Islands share a maritime border with Thailand and Indonesia.\""
   ]
  },
  {
   "cell_type": "code",
   "execution_count": 4,
   "id": "aa2bf048",
   "metadata": {},
   "outputs": [
    {
     "data": {
      "text/plain": [
       "['India (Hindi: Bhārat), officially the Republic of India, is a country in South Asia.',\n",
       " 'It is the seventh-largest country by area, the second-most populous country, and the most populous democracy in the world.',\n",
       " 'Bounded by the Indian Ocean on the south, the Arabian Sea on the southwest, and the Bay of Bengal on the southeast, it shares land borders with Pakistan to the west; China, Nepal, and Bhutan to the north; and Bangladesh and Myanmar to the east.',\n",
       " 'In the Indian Ocean, India is in the vicinity of Sri Lanka and the Maldives; its Andaman and Nicobar Islands share a maritime border with Thailand and Indonesia.']"
      ]
     },
     "execution_count": 4,
     "metadata": {},
     "output_type": "execute_result"
    }
   ],
   "source": [
    "nltk.sent_tokenize(data)"
   ]
  },
  {
   "cell_type": "code",
   "execution_count": 6,
   "id": "5e7929cc",
   "metadata": {},
   "outputs": [],
   "source": [
    "word_token = nltk.word_tokenize(data)"
   ]
  },
  {
   "cell_type": "code",
   "execution_count": 8,
   "id": "68a6ec4a",
   "metadata": {},
   "outputs": [
    {
     "name": "stderr",
     "output_type": "stream",
     "text": [
      "[nltk_data] Downloading package averaged_perceptron_tagger to\n",
      "[nltk_data]     /Users/Adit/nltk_data...\n",
      "[nltk_data]   Unzipping taggers/averaged_perceptron_tagger.zip.\n"
     ]
    },
    {
     "data": {
      "text/plain": [
       "[('India', 'NNP'),\n",
       " ('(', '('),\n",
       " ('Hindi', 'NNP'),\n",
       " (':', ':'),\n",
       " ('Bhārat', 'NNP'),\n",
       " (')', ')'),\n",
       " (',', ','),\n",
       " ('officially', 'RB'),\n",
       " ('the', 'DT'),\n",
       " ('Republic', 'NNP'),\n",
       " ('of', 'IN'),\n",
       " ('India', 'NNP'),\n",
       " (',', ','),\n",
       " ('is', 'VBZ'),\n",
       " ('a', 'DT'),\n",
       " ('country', 'NN'),\n",
       " ('in', 'IN'),\n",
       " ('South', 'NNP'),\n",
       " ('Asia', 'NNP'),\n",
       " ('.', '.'),\n",
       " ('It', 'PRP'),\n",
       " ('is', 'VBZ'),\n",
       " ('the', 'DT'),\n",
       " ('seventh-largest', 'JJ'),\n",
       " ('country', 'NN'),\n",
       " ('by', 'IN'),\n",
       " ('area', 'NN'),\n",
       " (',', ','),\n",
       " ('the', 'DT'),\n",
       " ('second-most', 'JJ'),\n",
       " ('populous', 'JJ'),\n",
       " ('country', 'NN'),\n",
       " (',', ','),\n",
       " ('and', 'CC'),\n",
       " ('the', 'DT'),\n",
       " ('most', 'RBS'),\n",
       " ('populous', 'JJ'),\n",
       " ('democracy', 'NN'),\n",
       " ('in', 'IN'),\n",
       " ('the', 'DT'),\n",
       " ('world', 'NN'),\n",
       " ('.', '.'),\n",
       " ('Bounded', 'VBN'),\n",
       " ('by', 'IN'),\n",
       " ('the', 'DT'),\n",
       " ('Indian', 'JJ'),\n",
       " ('Ocean', 'NNP'),\n",
       " ('on', 'IN'),\n",
       " ('the', 'DT'),\n",
       " ('south', 'NN'),\n",
       " (',', ','),\n",
       " ('the', 'DT'),\n",
       " ('Arabian', 'NNP'),\n",
       " ('Sea', 'NNP'),\n",
       " ('on', 'IN'),\n",
       " ('the', 'DT'),\n",
       " ('southwest', 'NN'),\n",
       " (',', ','),\n",
       " ('and', 'CC'),\n",
       " ('the', 'DT'),\n",
       " ('Bay', 'NNP'),\n",
       " ('of', 'IN'),\n",
       " ('Bengal', 'NNP'),\n",
       " ('on', 'IN'),\n",
       " ('the', 'DT'),\n",
       " ('southeast', 'NN'),\n",
       " (',', ','),\n",
       " ('it', 'PRP'),\n",
       " ('shares', 'NNS'),\n",
       " ('land', 'VBZ'),\n",
       " ('borders', 'NNS'),\n",
       " ('with', 'IN'),\n",
       " ('Pakistan', 'NNP'),\n",
       " ('to', 'TO'),\n",
       " ('the', 'DT'),\n",
       " ('west', 'NN'),\n",
       " (';', ':'),\n",
       " ('China', 'NNP'),\n",
       " (',', ','),\n",
       " ('Nepal', 'NNP'),\n",
       " (',', ','),\n",
       " ('and', 'CC'),\n",
       " ('Bhutan', 'NNP'),\n",
       " ('to', 'TO'),\n",
       " ('the', 'DT'),\n",
       " ('north', 'NN'),\n",
       " (';', ':'),\n",
       " ('and', 'CC'),\n",
       " ('Bangladesh', 'NNP'),\n",
       " ('and', 'CC'),\n",
       " ('Myanmar', 'NNP'),\n",
       " ('to', 'TO'),\n",
       " ('the', 'DT'),\n",
       " ('east', 'NN'),\n",
       " ('.', '.'),\n",
       " ('In', 'IN'),\n",
       " ('the', 'DT'),\n",
       " ('Indian', 'JJ'),\n",
       " ('Ocean', 'NNP'),\n",
       " (',', ','),\n",
       " ('India', 'NNP'),\n",
       " ('is', 'VBZ'),\n",
       " ('in', 'IN'),\n",
       " ('the', 'DT'),\n",
       " ('vicinity', 'NN'),\n",
       " ('of', 'IN'),\n",
       " ('Sri', 'NNP'),\n",
       " ('Lanka', 'NNP'),\n",
       " ('and', 'CC'),\n",
       " ('the', 'DT'),\n",
       " ('Maldives', 'NNPS'),\n",
       " (';', ':'),\n",
       " ('its', 'PRP$'),\n",
       " ('Andaman', 'NNP'),\n",
       " ('and', 'CC'),\n",
       " ('Nicobar', 'NNP'),\n",
       " ('Islands', 'NNP'),\n",
       " ('share', 'NN'),\n",
       " ('a', 'DT'),\n",
       " ('maritime', 'NN'),\n",
       " ('border', 'NN'),\n",
       " ('with', 'IN'),\n",
       " ('Thailand', 'NNP'),\n",
       " ('and', 'CC'),\n",
       " ('Indonesia', 'NNP'),\n",
       " ('.', '.')]"
      ]
     },
     "execution_count": 8,
     "metadata": {},
     "output_type": "execute_result"
    }
   ],
   "source": [
    "# Part Of Speech (POS) tagging\n",
    "nltk.download('averaged_perceptron_tagger')\n",
    "pos = nltk.pos_tag(word_token)\n",
    "pos"
   ]
  },
  {
   "cell_type": "markdown",
   "id": "577204c3",
   "metadata": {},
   "source": [
    "# method to take string and return total sentences count, total word count, and all verbs"
   ]
  },
  {
   "cell_type": "code",
   "execution_count": 9,
   "id": "6aaa5ade",
   "metadata": {},
   "outputs": [],
   "source": [
    "data = \"\"\"\n",
    "Kohli captained India Under-19s to victory at the 2008 Under-19 World Cup in Malaysia. After a few months later, he made his ODI debut for India against Sri Lanka at the age of 19. Initially having played as a reserve batsman in the Indian team, he soon established himself as a regular in the ODI middle-order and was part of the squad that won the 2011 World Cup. He made his Test debut in 2011 and shrugged off the tag of \"ODI specialist\" by 2013 with Test hundreds in Australia and South Africa.[3] Having reached the number one spot in the ICC rankings for ODI batsmen for the first time in 2013,[4] Kohli also found success in the Twenty20 format, winning the Man of the Tournament twice at the ICC World Twenty20 (in 2014 and 2016\n",
    "\"\"\""
   ]
  },
  {
   "cell_type": "code",
   "execution_count": 22,
   "id": "4001fd17",
   "metadata": {},
   "outputs": [],
   "source": [
    "def info(data):\n",
    "    len_sent = len(nltk.sent_tokenize(data))\n",
    "    len_word = len(nltk.word_tokenize(data))\n",
    "    verb_list=[]\n",
    "    for word in nltk.pos_tag(nltk.word_tokenize(data)):\n",
    "        if word[1].startswith('VB'):\n",
    "            verb_list.append(word[0])\n",
    "    len_verb = len(verb_list)\n",
    "    return len_sent,len_word,len_verb\n",
    "a,b,c = info(data)\n"
   ]
  },
  {
   "cell_type": "code",
   "execution_count": 23,
   "id": "6af6d55e",
   "metadata": {},
   "outputs": [
    {
     "data": {
      "text/plain": [
       "5"
      ]
     },
     "execution_count": 23,
     "metadata": {},
     "output_type": "execute_result"
    }
   ],
   "source": [
    "a"
   ]
  },
  {
   "cell_type": "code",
   "execution_count": 24,
   "id": "e1f421f4",
   "metadata": {},
   "outputs": [
    {
     "data": {
      "text/plain": [
       "153"
      ]
     },
     "execution_count": 24,
     "metadata": {},
     "output_type": "execute_result"
    }
   ],
   "source": [
    "b"
   ]
  },
  {
   "cell_type": "code",
   "execution_count": 25,
   "id": "db2fcda5",
   "metadata": {},
   "outputs": [
    {
     "data": {
      "text/plain": [
       "13"
      ]
     },
     "execution_count": 25,
     "metadata": {},
     "output_type": "execute_result"
    }
   ],
   "source": [
    "c"
   ]
  },
  {
   "cell_type": "code",
   "execution_count": null,
   "id": "e66e56b2",
   "metadata": {},
   "outputs": [],
   "source": []
  }
 ],
 "metadata": {
  "kernelspec": {
   "display_name": "Python 3",
   "language": "python",
   "name": "python3"
  },
  "language_info": {
   "codemirror_mode": {
    "name": "ipython",
    "version": 3
   },
   "file_extension": ".py",
   "mimetype": "text/x-python",
   "name": "python",
   "nbconvert_exporter": "python",
   "pygments_lexer": "ipython3",
   "version": "3.8.8"
  }
 },
 "nbformat": 4,
 "nbformat_minor": 5
}
