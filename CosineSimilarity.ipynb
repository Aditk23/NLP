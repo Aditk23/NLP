{
 "cells": [
  {
   "cell_type": "code",
   "execution_count": 1,
   "id": "5dc6878e",
   "metadata": {},
   "outputs": [],
   "source": [
    "import numpy as np\n",
    "import pandas as pd\n",
    "import matplotlib.pyplot as plt"
   ]
  },
  {
   "cell_type": "code",
   "execution_count": 6,
   "id": "c60b7280",
   "metadata": {},
   "outputs": [
    {
     "data": {
      "image/png": "[encoded data removed]",
      "text/plain": [
       "<Figure size 432x288 with 1 Axes>"
      ]
     },
     "metadata": {
      "needs_background": "light"
     },
     "output_type": "display_data"
    }
   ],
   "source": [
    "A = np.array([3,7])\n",
    "B = np.array([7,3])\n",
    "\n",
    "ax = plt.axes()\n",
    "ax.arrow(0,0,A[0],A[1],head_width=0.5,head_length=0.5)\n",
    "plt.annotate(f\"A({A[0]},{A[1]})\",xy = (A[0]+0.5,A[1]))\n",
    "\n",
    "ax.arrow(0,0,B[0],B[1],head_width=0.5,head_length=0.5)\n",
    "plt.annotate(f\"A({B[0]},{B[1]})\",xy = (B[0]+0.5,B[1]))\n",
    "\n",
    "# Cosine similarity\n",
    "cos_sim = np.dot(A,B) / (np.linalg.norm(A)*np.linalg.norm(B))"
   ]
  },
  {
   "cell_type": "code",
   "execution_count": 7,
   "id": "60790122",
   "metadata": {},
   "outputs": [
    {
     "data": {
      "text/plain": [
       "0.7241379310344827"
      ]
     },
     "execution_count": 7,
     "metadata": {},
     "output_type": "execute_result"
    }
   ],
   "source": [
    "cos_sim"
   ]
  },
  {
   "cell_type": "code",
   "execution_count": 9,
   "id": "06b52c01",
   "metadata": {},
   "outputs": [
    {
     "data": {
      "text/plain": [
       "array([[0.87537622]])"
      ]
     },
     "execution_count": 9,
     "metadata": {},
     "output_type": "execute_result"
    }
   ],
   "source": [
    "from sklearn.metrics.pairwise import cosine_similarity\n",
    "\n",
    "a = np.array([[4,2,4,6,3]])\n",
    "b = np.array([[3,5,2,4,2]])\n",
    "\n",
    "cos_sim = cosine_similarity(a,b)\n",
    "cos_sim"
   ]
  },
  {
   "cell_type": "code",
   "execution_count": 10,
   "id": "1966e332",
   "metadata": {},
   "outputs": [],
   "source": [
    "doc_trump = \"Mr. Trump became president after winning the political election. Though he lost the support of some republican friends, Trump is friends with President Putin\"\n",
    "\n",
    "doc_election = \"President Trump says Putin had no political interference is the election outcome. He says it was a witchhunt by political parties. He claimed President Putin is a friend who had nothing to do with the election\"\n",
    "\n",
    "doc_putin = \"Post elections, Vladimir Putin became President of Russia. President Putin had served as the Prime Minister earlier in his political career\"\n",
    "\n",
    "doc_afsan = \"afsan is an engineer\"\n",
    "\n",
    "documents = [doc_trump,doc_election,doc_putin,doc_afsan]"
   ]
  },
  {
   "cell_type": "code",
   "execution_count": 11,
   "id": "4fb099ae",
   "metadata": {},
   "outputs": [],
   "source": [
    "from sklearn.feature_extraction.text import CountVectorizer\n",
    "import pandas as pd\n",
    "\n",
    "bow = CountVectorizer(stop_words = 'english')\n",
    "sparse_mat = bow.fit_transform(documents)"
   ]
  },
  {
   "cell_type": "code",
   "execution_count": 12,
   "id": "58a6d059",
   "metadata": {},
   "outputs": [
    {
     "data": {
      "text/plain": [
       "['afsan',\n",
       " 'career',\n",
       " 'claimed',\n",
       " 'earlier',\n",
       " 'election',\n",
       " 'elections',\n",
       " 'engineer',\n",
       " 'friend',\n",
       " 'friends',\n",
       " 'interference',\n",
       " 'lost',\n",
       " 'minister',\n",
       " 'mr',\n",
       " 'outcome',\n",
       " 'parties',\n",
       " 'political',\n",
       " 'post',\n",
       " 'president',\n",
       " 'prime',\n",
       " 'putin',\n",
       " 'republican',\n",
       " 'russia',\n",
       " 'says',\n",
       " 'served',\n",
       " 'support',\n",
       " 'trump',\n",
       " 'vladimir',\n",
       " 'winning',\n",
       " 'witchhunt']"
      ]
     },
     "execution_count": 12,
     "metadata": {},
     "output_type": "execute_result"
    }
   ],
   "source": [
    "bow.get_feature_names()"
   ]
  },
  {
   "cell_type": "code",
   "execution_count": 15,
   "id": "e1311377",
   "metadata": {},
   "outputs": [],
   "source": [
    "df = pd.DataFrame(sparse_mat.toarray() , columns=bow.get_feature_names() ,\n",
    "                  index = ['doc_trump','doc_election','doc_putin','doc_afsan'])"
   ]
  },
  {
   "cell_type": "code",
   "execution_count": 16,
   "id": "1b192167",
   "metadata": {},
   "outputs": [
    {
     "data": {
      "text/html": [
       "<div>\n",
       "<style scoped>\n",
       "    .dataframe tbody tr th:only-of-type {\n",
       "        vertical-align: middle;\n",
       "    }\n",
       "\n",
       "    .dataframe tbody tr th {\n",
       "        vertical-align: top;\n",
       "    }\n",
       "\n",
       "    .dataframe thead th {\n",
       "        text-align: right;\n",
       "    }\n",
       "</style>\n",
       "<table border=\"1\" class=\"dataframe\">\n",
       "  <thead>\n",
       "    <tr style=\"text-align: right;\">\n",
       "      <th></th>\n",
       "      <th>afsan</th>\n",
       "      <th>career</th>\n",
       "      <th>claimed</th>\n",
       "      <th>earlier</th>\n",
       "      <th>election</th>\n",
       "      <th>elections</th>\n",
       "      <th>engineer</th>\n",
       "      <th>friend</th>\n",
       "      <th>friends</th>\n",
       "      <th>interference</th>\n",
       "      <th>...</th>\n",
       "      <th>putin</th>\n",
       "      <th>republican</th>\n",
       "      <th>russia</th>\n",
       "      <th>says</th>\n",
       "      <th>served</th>\n",
       "      <th>support</th>\n",
       "      <th>trump</th>\n",
       "      <th>vladimir</th>\n",
       "      <th>winning</th>\n",
       "      <th>witchhunt</th>\n",
       "    </tr>\n",
       "  </thead>\n",
       "  <tbody>\n",
       "    <tr>\n",
       "      <th>doc_trump</th>\n",
       "      <td>0</td>\n",
       "      <td>0</td>\n",
       "      <td>0</td>\n",
       "      <td>0</td>\n",
       "      <td>1</td>\n",
       "      <td>0</td>\n",
       "      <td>0</td>\n",
       "      <td>0</td>\n",
       "      <td>2</td>\n",
       "      <td>0</td>\n",
       "      <td>...</td>\n",
       "      <td>1</td>\n",
       "      <td>1</td>\n",
       "      <td>0</td>\n",
       "      <td>0</td>\n",
       "      <td>0</td>\n",
       "      <td>1</td>\n",
       "      <td>2</td>\n",
       "      <td>0</td>\n",
       "      <td>1</td>\n",
       "      <td>0</td>\n",
       "    </tr>\n",
       "    <tr>\n",
       "      <th>doc_election</th>\n",
       "      <td>0</td>\n",
       "      <td>0</td>\n",
       "      <td>1</td>\n",
       "      <td>0</td>\n",
       "      <td>2</td>\n",
       "      <td>0</td>\n",
       "      <td>0</td>\n",
       "      <td>1</td>\n",
       "      <td>0</td>\n",
       "      <td>1</td>\n",
       "      <td>...</td>\n",
       "      <td>2</td>\n",
       "      <td>0</td>\n",
       "      <td>0</td>\n",
       "      <td>2</td>\n",
       "      <td>0</td>\n",
       "      <td>0</td>\n",
       "      <td>1</td>\n",
       "      <td>0</td>\n",
       "      <td>0</td>\n",
       "      <td>1</td>\n",
       "    </tr>\n",
       "    <tr>\n",
       "      <th>doc_putin</th>\n",
       "      <td>0</td>\n",
       "      <td>1</td>\n",
       "      <td>0</td>\n",
       "      <td>1</td>\n",
       "      <td>0</td>\n",
       "      <td>1</td>\n",
       "      <td>0</td>\n",
       "      <td>0</td>\n",
       "      <td>0</td>\n",
       "      <td>0</td>\n",
       "      <td>...</td>\n",
       "      <td>2</td>\n",
       "      <td>0</td>\n",
       "      <td>1</td>\n",
       "      <td>0</td>\n",
       "      <td>1</td>\n",
       "      <td>0</td>\n",
       "      <td>0</td>\n",
       "      <td>1</td>\n",
       "      <td>0</td>\n",
       "      <td>0</td>\n",
       "    </tr>\n",
       "    <tr>\n",
       "      <th>doc_afsan</th>\n",
       "      <td>1</td>\n",
       "      <td>0</td>\n",
       "      <td>0</td>\n",
       "      <td>0</td>\n",
       "      <td>0</td>\n",
       "      <td>0</td>\n",
       "      <td>1</td>\n",
       "      <td>0</td>\n",
       "      <td>0</td>\n",
       "      <td>0</td>\n",
       "      <td>...</td>\n",
       "      <td>0</td>\n",
       "      <td>0</td>\n",
       "      <td>0</td>\n",
       "      <td>0</td>\n",
       "      <td>0</td>\n",
       "      <td>0</td>\n",
       "      <td>0</td>\n",
       "      <td>0</td>\n",
       "      <td>0</td>\n",
       "      <td>0</td>\n",
       "    </tr>\n",
       "  </tbody>\n",
       "</table>\n",
       "<p>4 rows × 29 columns</p>\n",
       "</div>"
      ],
      "text/plain": [
       "              afsan  career  claimed  earlier  election  elections  engineer  \\\n",
       "doc_trump         0       0        0        0         1          0         0   \n",
       "doc_election      0       0        1        0         2          0         0   \n",
       "doc_putin         0       1        0        1         0          1         0   \n",
       "doc_afsan         1       0        0        0         0          0         1   \n",
       "\n",
       "              friend  friends  interference  ...  putin  republican  russia  \\\n",
       "doc_trump          0        2             0  ...      1           1       0   \n",
       "doc_election       1        0             1  ...      2           0       0   \n",
       "doc_putin          0        0             0  ...      2           0       1   \n",
       "doc_afsan          0        0             0  ...      0           0       0   \n",
       "\n",
       "              says  served  support  trump  vladimir  winning  witchhunt  \n",
       "doc_trump        0       0        1      2         0        1          0  \n",
       "doc_election     2       0        0      1         0        0          1  \n",
       "doc_putin        0       1        0      0         1        0          0  \n",
       "doc_afsan        0       0        0      0         0        0          0  \n",
       "\n",
       "[4 rows x 29 columns]"
      ]
     },
     "execution_count": 16,
     "metadata": {},
     "output_type": "execute_result"
    }
   ],
   "source": [
    "df"
   ]
  },
  {
   "cell_type": "code",
   "execution_count": 17,
   "id": "53a7828b",
   "metadata": {},
   "outputs": [
    {
     "data": {
      "text/plain": [
       "array([[1.        , 0.51639778, 0.36893239, 0.        ],\n",
       "       [0.51639778, 1.        , 0.45360921, 0.        ],\n",
       "       [0.36893239, 0.45360921, 1.        , 0.        ],\n",
       "       [0.        , 0.        , 0.        , 1.        ]])"
      ]
     },
     "execution_count": 17,
     "metadata": {},
     "output_type": "execute_result"
    }
   ],
   "source": [
    "cosine_similarity(df,df)"
   ]
  },
  {
   "cell_type": "code",
   "execution_count": null,
   "id": "2d572a4b",
   "metadata": {},
   "outputs": [],
   "source": []
  }
 ],
 "metadata": {
  "kernelspec": {
   "display_name": "Python 3",
   "language": "python",
   "name": "python3"
  },
  "language_info": {
   "codemirror_mode": {
    "name": "ipython",
    "version": 3
   },
   "file_extension": ".py",
   "mimetype": "text/x-python",
   "name": "python",
   "nbconvert_exporter": "python",
   "pygments_lexer": "ipython3",
   "version": "3.8.8"
  }
 },
 "nbformat": 4,
 "nbformat_minor": 5
}
